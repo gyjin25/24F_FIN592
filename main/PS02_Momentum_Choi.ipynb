{
 "cells": [
  {
   "cell_type": "markdown",
   "metadata": {},
   "source": [
    "# Momemtum Assignment - Choi"
   ]
  },
  {
   "cell_type": "markdown",
   "metadata": {},
   "source": [
    "### Import Packages"
   ]
  },
  {
   "cell_type": "code",
   "execution_count": 1,
   "metadata": {},
   "outputs": [],
   "source": [
    "import wrds\n",
    "import pandas as pd\n",
    "import numpy as np\n",
    "import pickle\n",
    "import matplotlib.pyplot as plt\n",
    "import statsmodels.api as sm"
   ]
  },
  {
   "cell_type": "markdown",
   "metadata": {},
   "source": [
    "### WRDS Data"
   ]
  },
  {
   "cell_type": "code",
   "execution_count": 2,
   "metadata": {},
   "outputs": [
    {
     "name": "stdout",
     "output_type": "stream",
     "text": [
      "WRDS recommends setting up a .pgpass file.\n",
      "Created .pgpass file successfully.\n",
      "You can create this file yourself at any time with the create_pgpass_file() function.\n",
      "Loading library list...\n",
      "Done\n"
     ]
    }
   ],
   "source": [
    "conn = wrds.Connection()"
   ]
  },
  {
   "cell_type": "code",
   "execution_count": 20,
   "metadata": {},
   "outputs": [],
   "source": [
    "data = conn.raw_sql(\"\"\"select*\n",
    "                            \n",
    "                            from crsp.msf_v2\n",
    "                        \n",
    "                            where ShareType = 'NS'\n",
    "                            and SecurityType = 'EQTY'\n",
    "                            and SecuritySubType = 'COM'\n",
    "                            and USIncFlg = 'Y'\n",
    "                            and IssuerType in ('ACOR', 'CORP')\n",
    "                            and primaryexch in ('N','A', 'Q')\n",
    "                            \"\"\", date_cols=['datadate'])"
   ]
  },
  {
   "cell_type": "code",
   "execution_count": 2,
   "metadata": {},
   "outputs": [],
   "source": [
    "# data.to_pickle(\"./data.pkl\") # Save data via pickle"
   ]
  },
  {
   "cell_type": "markdown",
   "metadata": {},
   "source": [
    "### Summary statistics"
   ]
  },
  {
   "cell_type": "code",
   "execution_count": 2,
   "metadata": {},
   "outputs": [],
   "source": [
    "data = pd.read_pickle(\"./data.pkl\")\n",
    "# from 1962 January to December 2023 \n",
    "data_new = data[data['yyyymm'] >= 196201]"
   ]
  },
  {
   "cell_type": "code",
   "execution_count": 4,
   "metadata": {},
   "outputs": [],
   "source": [
    "data_new_filtered = data_new.loc[\n",
    "    (data_new['mthprevprc'] >= 5) & \n",
    "    (data_new['conditionaltype'] == 'RW') & \n",
    "    (data_new['tradingstatusflg'] == 'A')]"
   ]
  },
  {
   "cell_type": "code",
   "execution_count": 20,
   "metadata": {},
   "outputs": [
    {
     "name": "stdout",
     "output_type": "stream",
     "text": [
      "0.01081\n",
      "0.1857\n",
      "38.43827\n",
      "12.71\n",
      "2140.47865\n"
     ]
    }
   ],
   "source": [
    "# Summary Statistics before filtering\n",
    "print(round(data_new['mthret'].mean(),5))\n",
    "print(round(data_new['mthret'].std(),5))\n",
    "print(round(data_new['mthprevprc'].mean(),5))\n",
    "print(round(data_new['mthprc'].median(),5))\n",
    "print(round(data_new['mthprc'].std(),5))"
   ]
  },
  {
   "cell_type": "code",
   "execution_count": 5,
   "metadata": {},
   "outputs": [
    {
     "name": "stdout",
     "output_type": "stream",
     "text": [
      "0.00981\n",
      "0.1347\n",
      "50.65712\n",
      "18.125\n",
      "2477.33105\n"
     ]
    }
   ],
   "source": [
    "# Summary Statistics after filtering\n",
    "print(round(data_new_filtered['mthret'].mean(),5))\n",
    "print(round(data_new_filtered['mthret'].std(),5))\n",
    "print(round(data_new_filtered['mthprevprc'].mean(),5))\n",
    "print(round(data_new_filtered['mthprc'].median(),5))\n",
    "print(round(data_new_filtered['mthprc'].std(),5))"
   ]
  },
  {
   "cell_type": "code",
   "execution_count": 22,
   "metadata": {},
   "outputs": [
    {
     "name": "stdout",
     "output_type": "stream",
     "text": [
      "(3414845, 43)\n",
      "(2538310, 43)\n"
     ]
    }
   ],
   "source": [
    "print(data_new.shape)\n",
    "print(data_new_filtered.shape)"
   ]
  },
  {
   "cell_type": "markdown",
   "metadata": {},
   "source": [
    "### Replicate Jegadeesh and Titman (1993)"
   ]
  },
  {
   "cell_type": "code",
   "execution_count": 23,
   "metadata": {},
   "outputs": [],
   "source": [
    "def compute_momentum_ports(returns_matrix, eligibility_matrix, dates_vector, J=6, K=3):\n",
    "\n",
    "    T, N = returns_matrix.shape  # T: number of time periods, N: number of stocks\n",
    "\n",
    "    future_rets_all_strategies = np.full((T, K), np.nan) \n",
    "\n",
    "    # Loop over each row (time period) in the dataset\n",
    "    for r in range(J + K, T):\n",
    "        # For each of the K strategies, compute the past returns\n",
    "        for k in range(K):\n",
    "            lagged_rets = returns_matrix.iloc[r - J - k:r - k, :] \n",
    "            future_rets = returns_matrix.iloc[r, :]\n",
    "\n",
    "            # Check eligibility matrix\n",
    "            eligible_stocks = eligibility_matrix.iloc[r - k, :].astype(bool)\n",
    "\n",
    "            # Filter out non-eligible stocks and calculate cumulative lagged returns\n",
    "            valid_lagged_rets = lagged_rets.loc[:, eligible_stocks].dropna(axis=1, how='any')\n",
    "            valid_future_rets = future_rets.loc[eligible_stocks].dropna()\n",
    "\n",
    "            # If fewer than 10 stocks are eligible, skip this row\n",
    "            if len(valid_lagged_rets.columns) < 10 or len(valid_future_rets) == 0:\n",
    "                continue\n",
    "\n",
    "            # Calculate cumulative past returns over the J-month lag period\n",
    "            cumulative_lagged_returns = (1 + valid_lagged_rets).prod(axis=0) - 1\n",
    "\n",
    "            # Sort stocks by their cumulative lagged returns\n",
    "            sorted_stocks = cumulative_lagged_returns.sort_values()\n",
    "\n",
    "            # Calculate the top and bottom 10% of stocks (deciles)\n",
    "            num_stocks = len(sorted_stocks)\n",
    "            top_decile_stocks = sorted_stocks.iloc[-num_stocks // 10:]  \n",
    "            bottom_decile_stocks = sorted_stocks.iloc[:num_stocks // 10]\n",
    "\n",
    "            # Ensure top and bottom decile stocks exist in valid_future_rets before calculating their mean\n",
    "            valid_top_decile = top_decile_stocks.index.intersection(valid_future_rets.index)\n",
    "            valid_bottom_decile = bottom_decile_stocks.index.intersection(valid_future_rets.index)\n",
    "\n",
    "            # Calculate the average future returns for the valid top and bottom decile stocks\n",
    "            if len(valid_top_decile) > 0 and len(valid_bottom_decile) > 0:\n",
    "                top_ret = valid_future_rets.loc[valid_top_decile].mean()\n",
    "                bottom_ret = valid_future_rets.loc[valid_bottom_decile].mean()\n",
    "                future_rets_all_strategies[r, k] = top_ret - bottom_ret  # Long-short return for each strategy\n",
    "\n",
    "    # Create a DataFrame to return the results for individual strategies\n",
    "    strategies_df = pd.DataFrame(future_rets_all_strategies[J + K:], columns=[f'Strategy_{i+1}' for i in range(K)])\n",
    "    strategies_df['Date'] = dates_vector[J + K:]  # Add date column\n",
    "\n",
    "    # Create a DataFrame to return average results\n",
    "    momentum_results = pd.DataFrame({\n",
    "        'Date': dates_vector[J + K:], \n",
    "        'Momentum_Return': strategies_df.drop(columns=['Date']).mean(axis=1)  # Take the average across the K strategies\n",
    "    })\n",
    "\n",
    "    return momentum_results"
   ]
  },
  {
   "cell_type": "code",
   "execution_count": 24,
   "metadata": {},
   "outputs": [],
   "source": [
    "# Data\n",
    "data_q1 = data_new.loc[(data_new['yyyymm'] >= 196501) & (data_new['yyyymm'] <= 198912), ['permno','yyyymm','mthret','mthprevprc','tradingstatusflg','conditionaltype']].dropna()\n",
    "\n",
    "# Apply price and status filters & Ensure the data is sorted by permno and yyyymm\n",
    "data_q1_filtered = data_q1.loc[\n",
    "    (data_q1['mthprevprc'] >= 5) & \n",
    "    (data_q1['conditionaltype'] == 'RW') & \n",
    "    (data_q1['tradingstatusflg'] == 'A')].sort_values(by=['permno', 'yyyymm'])\n",
    "\n",
    "data_q1_filtered['date'] = pd.to_datetime(data_q1_filtered['yyyymm'].astype(str) + '01', format='%Y%m%d')"
   ]
  },
  {
   "cell_type": "code",
   "execution_count": null,
   "metadata": {},
   "outputs": [],
   "source": [
    "# Eligibility matrix : 1 and 0 dummy variable for stocks that has been not traded \n",
    "# for example, if we have a specific stock in one portfolio selected by (6-month) cummulative return but if it went bankrupt and don't have any obs for our holding period K\n",
    "# We do not have to include this stock in the original portfolio we constructed using lagged value"
   ]
  },
  {
   "cell_type": "code",
   "execution_count": 25,
   "metadata": {},
   "outputs": [],
   "source": [
    "#  Prepare returns matrix \n",
    "returns_matrix = data_q1_filtered.pivot(index='date', columns='permno', values='mthret')\n",
    "eligibility_matrix = pd.DataFrame(1, index=returns_matrix.index, columns=returns_matrix.columns)  # Assuming all stocks are eligible for now\n",
    "dates_vector = returns_matrix.index  # List of dates corresponding to rows\n",
    "\n",
    "# Compute the momentum strategy\n",
    "momentum_results = compute_momentum_ports(returns_matrix, eligibility_matrix, dates_vector, J=1, K=1)"
   ]
  },
  {
   "cell_type": "markdown",
   "metadata": {},
   "source": [
    "#### Returns for J-month/K-month strategy"
   ]
  },
  {
   "cell_type": "code",
   "execution_count": 29,
   "metadata": {},
   "outputs": [
    {
     "name": "stdout",
     "output_type": "stream",
     "text": [
      "     J   K  Average Return  Standard Deviation  T-Statistic\n",
      "0    1   1       -0.014678            0.035427    -7.152366\n",
      "1    1   3        0.000814            0.023652     0.591830\n",
      "2    1   6        0.003835            0.019596     3.349928\n",
      "3    1   9        0.004297            0.017117     4.275393\n",
      "4    1  12        0.004992            0.014286     5.919868\n",
      "5    3   1       -0.001580            0.042551    -0.638675\n",
      "6    3   3        0.008473            0.036510     3.979388\n",
      "7    3   6        0.009120            0.032313     4.814865\n",
      "8    3   9        0.009099            0.027997     5.515356\n",
      "9    3  12        0.008881            0.024305     6.168648\n",
      "10   6   1        0.005787            0.048369     2.047851\n",
      "11   6   3        0.012074            0.044320     4.647364\n",
      "12   6   6        0.012568            0.039860     5.350782\n",
      "13   6   9        0.012419            0.034730     6.037010\n",
      "14   6  12        0.010336            0.031329     5.540115\n",
      "15   9   1        0.008977            0.049716     3.074975\n",
      "16   9   3        0.014162            0.046089     5.214800\n",
      "17   9   6        0.014368            0.041537     5.839821\n",
      "18   9   9        0.012387            0.037777     5.506271\n",
      "19   9  12        0.010177            0.034637     4.907593\n",
      "20  12   1        0.011683            0.048250     4.102173\n",
      "21  12   3        0.014899            0.046114     5.454308\n",
      "22  12   6        0.013234            0.042679     5.207261\n",
      "23  12   9        0.011380            0.039134     4.857075\n",
      "24  12  12        0.008681            0.035666     4.043644\n"
     ]
    }
   ],
   "source": [
    "# J and K values\n",
    "J_values = [1, 3, 6, 9, 12]\n",
    "K_values = [1, 3, 6, 9, 12]\n",
    "\n",
    "# Prepare a DataFrame to store the results\n",
    "results = []\n",
    "\n",
    "# Loop over J and K combinations\n",
    "for J in J_values:\n",
    "    for K in K_values:\n",
    "        # Compute the momentum strategy for each J/K combination\n",
    "        momentum_results = compute_momentum_ports(returns_matrix, eligibility_matrix, dates_vector, J=J, K=K)\n",
    "        \n",
    "        # Calculate performance metrics\n",
    "        avg_return = momentum_results['Momentum_Return'].mean()\n",
    "        std_dev = momentum_results['Momentum_Return'].std()\n",
    "        t_stat = avg_return / (std_dev / np.sqrt(len(momentum_results)))\n",
    "\n",
    "        # Append the results\n",
    "        results.append({\n",
    "            'J': J,\n",
    "            'K': K,\n",
    "            'Average Return': avg_return,\n",
    "            'Standard Deviation': std_dev,\n",
    "            'T-Statistic': t_stat\n",
    "        })\n",
    "\n",
    "# Convert the results to a DataFrame for better display\n",
    "results_df = pd.DataFrame(results)\n",
    "\n",
    "# Print the results\n",
    "print(results_df)\n"
   ]
  },
  {
   "cell_type": "markdown",
   "metadata": {},
   "source": [
    "### Extend the analysis to the most current data and find pre & post publication effects"
   ]
  },
  {
   "cell_type": "code",
   "execution_count": 16,
   "metadata": {},
   "outputs": [],
   "source": [
    "# Extended dataset\n",
    "data_q3 = data_new.loc[(data_new['yyyymm'] >= 196501), ['permno','yyyymm','mthret','mthprevprc','tradingstatusflg','conditionaltype']]\n",
    "data_q3 = data_q3.dropna()\n",
    "\n",
    "# Apply price and status filters & Ensure the data is sorted by permno and yyyymm\n",
    "data_q3_filtered = data_q3.loc[\n",
    "    (data_q3['mthprevprc'] >= 5) & \n",
    "    (data_q3['conditionaltype'] == 'RW') & \n",
    "    (data_q3['tradingstatusflg'] == 'A')].sort_values(by=['permno', 'yyyymm'])\n",
    "\n",
    "data_q3_filtered['date'] = pd.to_datetime(data_q3_filtered['yyyymm'].astype(str) + '01', format='%Y%m%d')"
   ]
  },
  {
   "cell_type": "code",
   "execution_count": 17,
   "metadata": {},
   "outputs": [],
   "source": [
    "#  Prepare returns matrix \n",
    "returns_matrix = data_q3_filtered.pivot(index='date', columns='permno', values='mthret')\n",
    "eligibility_matrix = pd.DataFrame(1, index=returns_matrix.index, columns=returns_matrix.columns)  # Assuming all stocks are eligible for now\n",
    "dates_vector = returns_matrix.index  # List of dates corresponding to rows"
   ]
  },
  {
   "cell_type": "code",
   "execution_count": 18,
   "metadata": {},
   "outputs": [],
   "source": [
    "def plot_cumulative_returns(strategy_returns, label):\n",
    "    cumulative_returns = (1 + strategy_returns['Momentum_Return']).cumprod() - 1\n",
    "    plt.plot(momentum_results['Date'], cumulative_returns, label=label)"
   ]
  },
  {
   "cell_type": "code",
   "execution_count": 19,
   "metadata": {},
   "outputs": [
    {
     "data": {
      "image/png": "[encoded data removed]",
      "text/plain": [
       "<Figure size 800x400 with 1 Axes>"
      ]
     },
     "metadata": {},
     "output_type": "display_data"
    }
   ],
   "source": [
    "momentum_results = compute_momentum_ports(returns_matrix, eligibility_matrix, dates_vector, J=6, K=6)\n",
    "\n",
    "# Plot the cumulative returns for the entire period (1965-2023)\n",
    "plt.figure(figsize=(8, 4))\n",
    "plot_cumulative_returns(momentum_results, 'Momentum Strategy (1965-2023)')\n",
    "plt.title('Cumulative Returns for 6-month/6-month Momentum Strategy (1965-2023)')\n",
    "plt.xlabel('Time')\n",
    "plt.ylabel('Cumulative Return')\n",
    "plt.legend()\n",
    "plt.show()"
   ]
  },
  {
   "cell_type": "code",
   "execution_count": 20,
   "metadata": {},
   "outputs": [
    {
     "name": "stdout",
     "output_type": "stream",
     "text": [
      "0.01256768466083713\n",
      "0.03985971996125076\n",
      "5.350782226948631\n"
     ]
    }
   ],
   "source": [
    "# Pre Publication\n",
    "pre_publication_data = data_q3_filtered[data_q3_filtered['date'].dt.year <= 1989]\n",
    "returns_matrix = pre_publication_data.pivot(index='date', columns='permno', values='mthret')\n",
    "eligibility_matrix = pd.DataFrame(1, index=returns_matrix.index, columns=returns_matrix.columns)  # Assuming all stocks are eligible for now\n",
    "dates_vector = returns_matrix.index  # List of dates corresponding to rows\n",
    "\n",
    "# Get the results\n",
    "momentum_results = compute_momentum_ports(returns_matrix, eligibility_matrix, dates_vector, J=6, K=6)\n",
    "\n",
    "# Statistics\n",
    "avg_return = momentum_results['Momentum_Return'].mean()\n",
    "std_dev = momentum_results['Momentum_Return'].std()\n",
    "t_stat = avg_return / (std_dev / np.sqrt(len(momentum_results)))\n",
    "print(avg_return)\n",
    "print(std_dev)\n",
    "print(t_stat)"
   ]
  },
  {
   "cell_type": "code",
   "execution_count": 21,
   "metadata": {},
   "outputs": [
    {
     "name": "stdout",
     "output_type": "stream",
     "text": [
      "0.009868922815486273\n",
      "0.05286825310305302\n",
      "3.7146883593990676\n"
     ]
    }
   ],
   "source": [
    "# Post Publication\n",
    "post_publication_data = data_q3_filtered[data_q3_filtered['date'].dt.year >= 1990]\n",
    "returns_matrix = post_publication_data.pivot(index='date', columns='permno', values='mthret')\n",
    "eligibility_matrix = pd.DataFrame(1, index=returns_matrix.index, columns=returns_matrix.columns)  # Assuming all stocks are eligible for now\n",
    "dates_vector = returns_matrix.index  # List of dates corresponding to rows\n",
    "\n",
    "# Get the results\n",
    "momentum_results = compute_momentum_ports(returns_matrix, eligibility_matrix, dates_vector, J=6, K=6)\n",
    "\n",
    "# Statistics\n",
    "avg_return = momentum_results['Momentum_Return'].mean()\n",
    "std_dev = momentum_results['Momentum_Return'].std()\n",
    "t_stat = avg_return / (std_dev / np.sqrt(len(momentum_results)))\n",
    "print(avg_return)\n",
    "print(std_dev)\n",
    "print(t_stat)"
   ]
  },
  {
   "cell_type": "markdown",
   "metadata": {},
   "source": [
    "### Does the CAPM beta or the Fama-French 3 factors explain any excess returns?"
   ]
  },
  {
   "cell_type": "code",
   "execution_count": 22,
   "metadata": {},
   "outputs": [],
   "source": [
    "ff_data = pd.read_csv('F-F_Research_Data_Factors.csv')"
   ]
  },
  {
   "cell_type": "code",
   "execution_count": 23,
   "metadata": {},
   "outputs": [
    {
     "data": {
      "text/html": [
       "<div>\n",
       "<style scoped>\n",
       "    .dataframe tbody tr th:only-of-type {\n",
       "        vertical-align: middle;\n",
       "    }\n",
       "\n",
       "    .dataframe tbody tr th {\n",
       "        vertical-align: top;\n",
       "    }\n",
       "\n",
       "    .dataframe thead th {\n",
       "        text-align: right;\n",
       "    }\n",
       "</style>\n",
       "<table border=\"1\" class=\"dataframe\">\n",
       "  <thead>\n",
       "    <tr style=\"text-align: right;\">\n",
       "      <th></th>\n",
       "      <th>Unnamed: 0</th>\n",
       "      <th>Mkt-RF</th>\n",
       "      <th>SMB</th>\n",
       "      <th>HML</th>\n",
       "      <th>RF</th>\n",
       "    </tr>\n",
       "  </thead>\n",
       "  <tbody>\n",
       "    <tr>\n",
       "      <th>0</th>\n",
       "      <td>192607</td>\n",
       "      <td>2.96</td>\n",
       "      <td>-2.56</td>\n",
       "      <td>-2.43</td>\n",
       "      <td>0.22</td>\n",
       "    </tr>\n",
       "    <tr>\n",
       "      <th>1</th>\n",
       "      <td>192608</td>\n",
       "      <td>2.64</td>\n",
       "      <td>-1.17</td>\n",
       "      <td>3.82</td>\n",
       "      <td>0.25</td>\n",
       "    </tr>\n",
       "    <tr>\n",
       "      <th>2</th>\n",
       "      <td>192609</td>\n",
       "      <td>0.36</td>\n",
       "      <td>-1.40</td>\n",
       "      <td>0.13</td>\n",
       "      <td>0.23</td>\n",
       "    </tr>\n",
       "    <tr>\n",
       "      <th>3</th>\n",
       "      <td>192610</td>\n",
       "      <td>-3.24</td>\n",
       "      <td>-0.09</td>\n",
       "      <td>0.70</td>\n",
       "      <td>0.32</td>\n",
       "    </tr>\n",
       "    <tr>\n",
       "      <th>4</th>\n",
       "      <td>192611</td>\n",
       "      <td>2.53</td>\n",
       "      <td>-0.10</td>\n",
       "      <td>-0.51</td>\n",
       "      <td>0.31</td>\n",
       "    </tr>\n",
       "  </tbody>\n",
       "</table>\n",
       "</div>"
      ],
      "text/plain": [
       "   Unnamed: 0  Mkt-RF   SMB   HML    RF\n",
       "0      192607    2.96 -2.56 -2.43  0.22\n",
       "1      192608    2.64 -1.17  3.82  0.25\n",
       "2      192609    0.36 -1.40  0.13  0.23\n",
       "3      192610   -3.24 -0.09  0.70  0.32\n",
       "4      192611    2.53 -0.10 -0.51  0.31"
      ]
     },
     "execution_count": 23,
     "metadata": {},
     "output_type": "execute_result"
    }
   ],
   "source": [
    "ff_data.head()"
   ]
  },
  {
   "cell_type": "code",
   "execution_count": 24,
   "metadata": {},
   "outputs": [],
   "source": [
    "ff_data['date'] = pd.to_datetime(ff_data['Unnamed: 0'].astype(str) + '01', format='%Y%m%d')\n",
    "momentum_returns = momentum_results[['Date', 'Momentum_Return']].copy()\n",
    "ff_merged = pd.merge(momentum_returns, ff_data, left_on='Date', right_on='date')\n",
    "\n",
    "ff_merged['Excess_Momentum_Return'] = ff_merged['Momentum_Return'] - ff_merged['RF'] / 100\n",
    "ff_merged_clean = ff_merged.dropna(subset=['Excess_Momentum_Return', 'Mkt-RF', 'SMB', 'HML'])"
   ]
  },
  {
   "cell_type": "code",
   "execution_count": 25,
   "metadata": {},
   "outputs": [
    {
     "name": "stdout",
     "output_type": "stream",
     "text": [
      "CAPM Regression Results:\n",
      "                              OLS Regression Results                              \n",
      "==================================================================================\n",
      "Dep. Variable:     Excess_Momentum_Return   R-squared:                       0.066\n",
      "Model:                                OLS   Adj. R-squared:                  0.063\n",
      "Method:                     Least Squares   F-statistic:                     27.62\n",
      "Date:                    Sun, 20 Oct 2024   Prob (F-statistic):           2.42e-07\n",
      "Time:                            18:31:54   Log-Likelihood:                 617.56\n",
      "No. Observations:                     396   AIC:                            -1231.\n",
      "Df Residuals:                         394   BIC:                            -1223.\n",
      "Df Model:                               1                                         \n",
      "Covariance Type:                nonrobust                                         \n",
      "==============================================================================\n",
      "                 coef    std err          t      P>|t|      [0.025      0.975]\n",
      "------------------------------------------------------------------------------\n",
      "const          0.0102      0.003      3.907      0.000       0.005       0.015\n",
      "Mkt-RF        -0.0031      0.001     -5.256      0.000      -0.004      -0.002\n",
      "==============================================================================\n",
      "Omnibus:                       86.468   Durbin-Watson:                   2.099\n",
      "Prob(Omnibus):                  0.000   Jarque-Bera (JB):             1155.154\n",
      "Skew:                          -0.464   Prob(JB):                    1.45e-251\n",
      "Kurtosis:                      11.316   Cond. No.                         4.55\n",
      "==============================================================================\n",
      "\n",
      "Notes:\n",
      "[1] Standard Errors assume that the covariance matrix of the errors is correctly specified.\n"
     ]
    }
   ],
   "source": [
    "# Excess Momentum Return ~ Mkt-RF\n",
    "X_capm = sm.add_constant(ff_merged_clean['Mkt-RF'])\n",
    "capm_model = sm.OLS(ff_merged_clean['Excess_Momentum_Return'], X_capm).fit()\n",
    "\n",
    "print(\"CAPM Regression Results:\")\n",
    "print(capm_model.summary())"
   ]
  },
  {
   "cell_type": "code",
   "execution_count": 26,
   "metadata": {},
   "outputs": [
    {
     "name": "stdout",
     "output_type": "stream",
     "text": [
      "\n",
      "Fama-French 3-Factor Model Results:\n",
      "                              OLS Regression Results                              \n",
      "==================================================================================\n",
      "Dep. Variable:     Excess_Momentum_Return   R-squared:                       0.087\n",
      "Model:                                OLS   Adj. R-squared:                  0.080\n",
      "Method:                     Least Squares   F-statistic:                     12.51\n",
      "Date:                    Sun, 20 Oct 2024   Prob (F-statistic):           7.90e-08\n",
      "Time:                            18:31:54   Log-Likelihood:                 622.25\n",
      "No. Observations:                     396   AIC:                            -1236.\n",
      "Df Residuals:                         392   BIC:                            -1221.\n",
      "Df Model:                               3                                         \n",
      "Covariance Type:                nonrobust                                         \n",
      "==============================================================================\n",
      "                 coef    std err          t      P>|t|      [0.025      0.975]\n",
      "------------------------------------------------------------------------------\n",
      "const          0.0107      0.003      4.133      0.000       0.006       0.016\n",
      "Mkt-RF        -0.0033      0.001     -5.596      0.000      -0.004      -0.002\n",
      "SMB            0.0006      0.001      0.717      0.474      -0.001       0.002\n",
      "HML           -0.0022      0.001     -2.796      0.005      -0.004      -0.001\n",
      "==============================================================================\n",
      "Omnibus:                       94.471   Durbin-Watson:                   2.078\n",
      "Prob(Omnibus):                  0.000   Jarque-Bera (JB):             1007.799\n",
      "Skew:                          -0.656   Prob(JB):                    1.44e-219\n",
      "Kurtosis:                      10.704   Cond. No.                         4.72\n",
      "==============================================================================\n",
      "\n",
      "Notes:\n",
      "[1] Standard Errors assume that the covariance matrix of the errors is correctly specified.\n"
     ]
    }
   ],
   "source": [
    "# Excess Momentum Return ~ (Mkt-RF, SMB, HML)\n",
    "X_ff3 = sm.add_constant(ff_merged_clean[['Mkt-RF', 'SMB', 'HML']])\n",
    "ff3_model = sm.OLS(ff_merged_clean['Excess_Momentum_Return'], X_ff3).fit()\n",
    "\n",
    "print(\"\\nFama-French 3-Factor Model Results:\")\n",
    "print(ff3_model.summary())"
   ]
  },
  {
   "cell_type": "markdown",
   "metadata": {},
   "source": [
    "### Performance over longer periods"
   ]
  },
  {
   "cell_type": "code",
   "execution_count": 41,
   "metadata": {},
   "outputs": [
    {
     "data": {
      "image/png": "[encoded data removed]",
      "text/plain": [
       "<Figure size 800x500 with 1 Axes>"
      ]
     },
     "metadata": {},
     "output_type": "display_data"
    }
   ],
   "source": [
    "J_values = [12, 18, 24, 36]\n",
    "K = 6  \n",
    "\n",
    "average_returns = []\n",
    "std_deviation = []\n",
    "t_statistics = []\n",
    "\n",
    "returns_matrix = data_q3_filtered.pivot(index='date', columns='permno', values='mthret')\n",
    "eligibility_matrix = pd.DataFrame(1, index=returns_matrix.index, columns=returns_matrix.columns) \n",
    "dates_vector = returns_matrix.index \n",
    "\n",
    "for J in J_values:\n",
    "    momentum_results = compute_momentum_ports(returns_matrix, eligibility_matrix, dates_vector, J=J, K=K)\n",
    "    avg_return = momentum_results['Momentum_Return'].mean()\n",
    "    std_dev = momentum_results['Momentum_Return'].std()\n",
    "    t_stat = avg_return / (std_dev / np.sqrt(len(momentum_results)))\n",
    "    average_returns.append(avg_return)\n",
    "    std_deviation.append(std_dev)\n",
    "    t_statistics.append(t_stat)\n",
    "\n",
    "plt.figure(figsize=(8, 5))\n",
    "plt.plot(J_values, average_returns, marker='o', linestyle='-', color='b')\n",
    "plt.title('Average Returns vs. Sorting Periods for Momentum Returns')\n",
    "plt.xlabel('Sorting Period (Months)')\n",
    "plt.ylabel('Average Return')\n",
    "plt.grid(True)\n",
    "plt.show()\n"
   ]
  },
  {
   "cell_type": "code",
   "execution_count": 43,
   "metadata": {},
   "outputs": [
    {
     "name": "stdout",
     "output_type": "stream",
     "text": [
      "   J (Months)  Average Return  Standard Deviation  t-statistics\n",
      "0          12        0.009712            0.050407      5.061024\n",
      "1          18        0.005999            0.049565      3.165536\n",
      "2          24        0.003768            0.047979      2.044670\n",
      "3          36        0.001889            0.044495      1.095670\n"
     ]
    }
   ],
   "source": [
    "results_df = pd.DataFrame({\n",
    "    'J (Months)': J_values,\n",
    "    'Average Return': average_returns,\n",
    "    'Standard Deviation': std_deviation,\n",
    "    't-statistics' : t_statistics\n",
    "})\n",
    "\n",
    "# Display the DataFrame\n",
    "print(results_df)"
   ]
  },
  {
   "cell_type": "markdown",
   "metadata": {},
   "source": [
    "### Seasonal Patterns"
   ]
  },
  {
   "cell_type": "code",
   "execution_count": 28,
   "metadata": {},
   "outputs": [
    {
     "name": "stdout",
     "output_type": "stream",
     "text": [
      "                            OLS Regression Results                            \n",
      "==============================================================================\n",
      "Dep. Variable:        Momentum_Return   R-squared:                       0.084\n",
      "Model:                            OLS   Adj. R-squared:                  0.069\n",
      "Method:                 Least Squares   F-statistic:                     5.456\n",
      "Date:                Sun, 20 Oct 2024   Prob (F-statistic):           2.36e-08\n",
      "Time:                        18:32:49   Log-Likelihood:                 1157.6\n",
      "No. Observations:                 666   AIC:                            -2291.\n",
      "Df Residuals:                     654   BIC:                            -2237.\n",
      "Df Model:                          11                                         \n",
      "Covariance Type:            nonrobust                                         \n",
      "==============================================================================\n",
      "                 coef    std err          t      P>|t|      [0.025      0.975]\n",
      "------------------------------------------------------------------------------\n",
      "month_1       -0.0359      0.006     -6.200      0.000      -0.047      -0.025\n",
      "month_2        0.0002      0.006      0.028      0.978      -0.011       0.012\n",
      "month_3       -0.0022      0.006     -0.383      0.702      -0.014       0.009\n",
      "month_4       -0.0064      0.006     -1.104      0.270      -0.018       0.005\n",
      "month_5        0.0021      0.006      0.354      0.723      -0.009       0.013\n",
      "month_6        0.0144      0.006      2.483      0.013       0.003       0.026\n",
      "month_7        0.0080      0.006      1.390      0.165      -0.003       0.019\n",
      "month_8        0.0034      0.006      0.601      0.548      -0.008       0.015\n",
      "month_9        0.0093      0.006      1.623      0.105      -0.002       0.021\n",
      "month_10       0.0156      0.006      2.716      0.007       0.004       0.027\n",
      "month_11       0.0055      0.006      0.952      0.342      -0.006       0.017\n",
      "month_12       0.0081      0.006      1.413      0.158      -0.003       0.019\n",
      "==============================================================================\n",
      "Omnibus:                      117.995   Durbin-Watson:                   1.881\n",
      "Prob(Omnibus):                  0.000   Jarque-Bera (JB):              432.948\n",
      "Skew:                          -0.790   Prob(JB):                     9.70e-95\n",
      "Kurtosis:                       6.620   Cond. No.                         1.01\n",
      "==============================================================================\n",
      "\n",
      "Notes:\n",
      "[1] Standard Errors assume that the covariance matrix of the errors is correctly specified.\n",
      "        Month  Average Return  T-Statistic\n",
      "0     January       -0.035900    -6.200242\n",
      "1    February        0.000161     0.027846\n",
      "2       March       -0.002218    -0.382979\n",
      "3       April       -0.006390    -1.103678\n",
      "4         May        0.002053     0.354489\n",
      "5        June        0.014375     2.482650\n",
      "6        July        0.007974     1.389554\n",
      "7      August        0.003446     0.600568\n",
      "8   September        0.009311     1.622552\n",
      "9     October        0.015587     2.716319\n",
      "10   November        0.005460     0.951516\n",
      "11   December        0.008111     1.413463\n"
     ]
    }
   ],
   "source": [
    "momentum_returns = momentum_results[['Date', 'Momentum_Return']].copy()\n",
    "\n",
    "# Extract the month from the 'Date' column\n",
    "momentum_returns['month'] = momentum_returns['Date'].dt.month\n",
    "\n",
    "# Create dummy variables for each calendar month\n",
    "month_dummies = pd.get_dummies(momentum_returns['month'], prefix='month', drop_first=False)\n",
    "\n",
    "# Prepare the data for regression (momentum returns as dependent variable and month dummies as independent variables)\n",
    "X = month_dummies\n",
    "y = momentum_returns['Momentum_Return']\n",
    "\n",
    "# Run the regression without a constant (since we are including all month indicators)\n",
    "model = sm.OLS(y, X).fit()\n",
    "\n",
    "# Print the regression results\n",
    "print(model.summary())\n",
    "\n",
    "# Extract the average returns (coefficients) and t-statistics for each month\n",
    "average_returns_by_month = model.params\n",
    "t_stats_by_month = model.tvalues\n",
    "\n",
    "# Create a DataFrame to display the results\n",
    "results_df = pd.DataFrame({\n",
    "    'Month': ['January', 'February', 'March', 'April', 'May', 'June', 'July', 'August', 'September', 'October', 'November', 'December'],\n",
    "    'Average Return': average_returns_by_month.values,\n",
    "    'T-Statistic': t_stats_by_month.values\n",
    "})\n",
    "\n",
    "# Display the results by calendar month\n",
    "print(results_df)\n"
   ]
  }
 ],
 "metadata": {
  "kernelspec": {
   "display_name": "FIN592",
   "language": "python",
   "name": "python3"
  },
  "language_info": {
   "codemirror_mode": {
    "name": "ipython",
    "version": 3
   },
   "file_extension": ".py",
   "mimetype": "text/x-python",
   "name": "python",
   "nbconvert_exporter": "python",
   "pygments_lexer": "ipython3",
   "version": "3.8.17"
  }
 },
 "nbformat": 4,
 "nbformat_minor": 2
}
